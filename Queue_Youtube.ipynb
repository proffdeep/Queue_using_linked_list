{
 "cells": [
  {
   "cell_type": "markdown",
   "metadata": {},
   "source": [
    "# Implementation of Queue\n",
    "\n",
    "In this tutorial we will implementing our own class of Queue!\n",
    "<hr>"
   ]
  },
  {
   "cell_type": "markdown",
   "metadata": {},
   "source": [
    "# What is a Queue \n",
    "\n",
    "A queue is a collection in which the entities are kept in order and the operations on the collection are the addition of entities to the <b>rear</b> end, known as enqueue, and the removal of entities from the <b>front</b> end, known as dequeue. This makes the queue a First-In-First-Out (FIFO) data structure. In a FIFO data structure, the first element added to the queue will be the first one to be removed.\n",
    "\n",
    "Theoretically, one characteristic of a queue is that it does not have a specific capacity. Regardless of how many elements are already contained, a new element can always be added. It can also be empty, at which point removing an element will be impossible until a new element has been added again.\n",
    "\n",
    "\n",
    "Sourse: Wikipedia <br>\n",
    "<a>https://en.wikipedia.org/wiki/Queue_(abstract_data_type)</a>"
   ]
  },
  {
   "cell_type": "markdown",
   "metadata": {},
   "source": [
    "____\n",
    "# Queue Methods and Attributes\n",
    "\n",
    "\n",
    "Before we begin implementing our own queue, let's review the attribute and methods it will have:\n",
    "\n",
    "* Queue() creates a new queue that is empty. It needs no parameters and returns an empty queue.\n",
    "* Enqueue(item) adds a new item to the rear of the queue. It needs the item and returns nothing.\n",
    "* Dequeue() removes the front item from the queue. It needs no parameters and returns the item. The queue is modified.\n",
    "* IsEmpty() tests to see whether the queue is empty. It needs no parameters and returns a boolean value.\n",
    "* Size() returns the number of items in the queue. It needs no parameters and returns an integer.\n",
    "* Front() returns the element at the front postition of the Queue\n",
    "* Rear() return the element at the rear position of the Queue\n",
    "\n",
    "\n"
   ]
  },
  {
   "attachments": {
    "Queue_Linked_list.png": {
     "image/png": "[encoded data removed]"
    }
   },
   "cell_type": "markdown",
   "metadata": {},
   "source": [
    "![Queue_Linked_list.png](attachment:Queue_Linked_list.png)"
   ]
  },
  {
   "cell_type": "markdown",
   "metadata": {},
   "source": [
    "## Queue Implementation"
   ]
  },
  {
   "cell_type": "code",
   "execution_count": 2,
   "metadata": {},
   "outputs": [],
   "source": [
    "class Node:\n",
    "    def __init__(self,data):\n",
    "        self.data = data\n",
    "        self.next = None\n",
    "\n",
    "\n",
    "class Queue:\n",
    "    def __init__(self):\n",
    "        self.front = None\n",
    "        self.rear = None\n",
    "        \n",
    "    def Enqueue(self,data):\n",
    "        if self.rear is None:\n",
    "            self.front = self.rear = Node(data)\n",
    "        else:\n",
    "            self.rear.next = Node(data)\n",
    "            self.rear = self.rear.next\n",
    "            \n",
    "    def Dequeue(self):\n",
    "        if self.front is None:\n",
    "            return \"Queue is Empty\"\n",
    "        else:\n",
    "            to_return = self.front.data\n",
    "            self.front = self.front.next\n",
    "            return to_return\n",
    "        \n",
    "    def IsEmpty(self):\n",
    "        return self.front is None\n",
    "    \n",
    "    def Size(self):\n",
    "        count = 0\n",
    "        cur = self.front\n",
    "        while(cur):\n",
    "            count+=1\n",
    "            cur = cur.next\n",
    "        return count\n",
    "    \n",
    "    def Front(self):\n",
    "        return self.front.data\n",
    "    \n",
    "    def Rear(self):\n",
    "        return self.rear.data\n",
    "            \n"
   ]
  },
  {
   "cell_type": "code",
   "execution_count": 3,
   "metadata": {},
   "outputs": [],
   "source": [
    "q = Queue()"
   ]
  },
  {
   "cell_type": "code",
   "execution_count": 4,
   "metadata": {},
   "outputs": [],
   "source": [
    "q.Enqueue(1)\n",
    "q.Enqueue(2)\n",
    "q.Enqueue(3)\n",
    "q.Enqueue(4)"
   ]
  },
  {
   "cell_type": "code",
   "execution_count": 5,
   "metadata": {},
   "outputs": [
    {
     "data": {
      "text/plain": [
       "False"
      ]
     },
     "execution_count": 5,
     "metadata": {},
     "output_type": "execute_result"
    }
   ],
   "source": [
    "q.IsEmpty()"
   ]
  },
  {
   "cell_type": "code",
   "execution_count": null,
   "metadata": {},
   "outputs": [],
   "source": []
  },
  {
   "cell_type": "code",
   "execution_count": null,
   "metadata": {},
   "outputs": [],
   "source": []
  },
  {
   "cell_type": "code",
   "execution_count": null,
   "metadata": {},
   "outputs": [],
   "source": []
  },
  {
   "cell_type": "code",
   "execution_count": null,
   "metadata": {},
   "outputs": [],
   "source": []
  },
  {
   "cell_type": "code",
   "execution_count": null,
   "metadata": {},
   "outputs": [],
   "source": []
  }
 ],
 "metadata": {
  "kernelspec": {
   "display_name": "Python 3",
   "language": "python",
   "name": "python3"
  },
  "language_info": {
   "codemirror_mode": {
    "name": "ipython",
    "version": 3
   },
   "file_extension": ".py",
   "mimetype": "text/x-python",
   "name": "python",
   "nbconvert_exporter": "python",
   "pygments_lexer": "ipython3",
   "version": "3.7.4"
  }
 },
 "nbformat": 4,
 "nbformat_minor": 2
}
